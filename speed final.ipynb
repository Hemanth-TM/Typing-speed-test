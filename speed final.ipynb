{
 "cells": [
  {
   "cell_type": "code",
   "execution_count": 18,
   "id": "fa860347",
   "metadata": {},
   "outputs": [
    {
     "name": "stdout",
     "output_type": "stream",
     "text": [
      "enter the string=the lion\n",
      "Press Enter when you're ready to start...\n",
      "Start typing: the loin\n",
      "\n",
      "Typing Test Results:\n",
      "Time taken: 3.50 seconds\n",
      "Words typed: 2\n"
     ]
    },
    {
     "ename": "NameError",
     "evalue": "name 'characitaters_typed' is not defined",
     "output_type": "error",
     "traceback": [
      "\u001b[1;31m---------------------------------------------------------------------------\u001b[0m",
      "\u001b[1;31mNameError\u001b[0m                                 Traceback (most recent call last)",
      "\u001b[1;32m~\\AppData\\Local\\Temp\\ipykernel_8624\\1811957653.py\u001b[0m in \u001b[0;36m<module>\u001b[1;34m\u001b[0m\n\u001b[0;32m     29\u001b[0m     \u001b[1;32mreturn\u001b[0m \u001b[0maccuracy\u001b[0m\u001b[1;33m\u001b[0m\u001b[1;33m\u001b[0m\u001b[0m\n\u001b[0;32m     30\u001b[0m \u001b[1;33m\u001b[0m\u001b[0m\n\u001b[1;32m---> 31\u001b[1;33m \u001b[0mtyping_accuracy_test\u001b[0m\u001b[1;33m(\u001b[0m\u001b[1;33m)\u001b[0m\u001b[1;33m\u001b[0m\u001b[1;33m\u001b[0m\u001b[0m\n\u001b[0m",
      "\u001b[1;32m~\\AppData\\Local\\Temp\\ipykernel_8624\\1811957653.py\u001b[0m in \u001b[0;36mtyping_accuracy_test\u001b[1;34m()\u001b[0m\n\u001b[0;32m     20\u001b[0m     \u001b[0mprint\u001b[0m\u001b[1;33m(\u001b[0m\u001b[1;34mf\"Time taken: {elapsed_time:.2f} seconds\"\u001b[0m\u001b[1;33m)\u001b[0m\u001b[1;33m\u001b[0m\u001b[1;33m\u001b[0m\u001b[0m\n\u001b[0;32m     21\u001b[0m     \u001b[0mprint\u001b[0m\u001b[1;33m(\u001b[0m\u001b[1;34mf\"Words typed: {words_typed}\"\u001b[0m\u001b[1;33m)\u001b[0m\u001b[1;33m\u001b[0m\u001b[1;33m\u001b[0m\u001b[0m\n\u001b[1;32m---> 22\u001b[1;33m     \u001b[0mprint\u001b[0m\u001b[1;33m(\u001b[0m\u001b[1;34mf\"Characters typed: {characitaters_typed}\"\u001b[0m\u001b[1;33m)\u001b[0m\u001b[1;33m\u001b[0m\u001b[1;33m\u001b[0m\u001b[0m\n\u001b[0m\u001b[0;32m     23\u001b[0m     \u001b[0mprint\u001b[0m\u001b[1;33m(\u001b[0m\u001b[1;34mf\"Words per minute: {words_per_minute:.2f}\"\u001b[0m\u001b[1;33m)\u001b[0m\u001b[1;33m\u001b[0m\u001b[1;33m\u001b[0m\u001b[0m\n\u001b[0;32m     24\u001b[0m     \u001b[0mprint\u001b[0m\u001b[1;33m(\u001b[0m\u001b[1;34mf\"Accuracy: {accuracy:.2f}%\"\u001b[0m\u001b[1;33m)\u001b[0m\u001b[1;33m\u001b[0m\u001b[1;33m\u001b[0m\u001b[0m\n",
      "\u001b[1;31mNameError\u001b[0m: name 'characitaters_typed' is not defined"
     ]
    }
   ],
   "source": []
  },
  {
   "cell_type": "code",
   "execution_count": 22,
   "id": "dad4674e",
   "metadata": {},
   "outputs": [
    {
     "name": "stdout",
     "output_type": "stream",
     "text": [
      "enter the string=the lion\n",
      "Press Enter when you're ready to start...\n",
      "Start typing: the loin\n",
      "\n",
      "Typing Test Results:\n",
      "Time taken: 3.36 seconds\n",
      "Words typed: 2\n",
      "Characters typed: 8\n",
      "Words per minute: 35.67\n",
      "Accuracy: 75.00%\n"
     ]
    }
   ],
   "source": [
    "import time\n",
    "\n",
    "def typing_accuracy_test():\n",
    "    prompt_text = str(input(\"enter the string=\"))\n",
    "   \n",
    "    input(\"Press Enter when you're ready to start...\")\n",
    "\n",
    "    start_time = time.time()\n",
    "\n",
    "    typed_text = input(\"Start typing: \")\n",
    "\n",
    "    end_time = time.time()\n",
    "\n",
    "    elapsed_time = end_time - start_time\n",
    "    words_typed = len(typed_text.split())\n",
    "    characters_typed = len(typed_text)\n",
    "    words_per_minute = (words_typed / elapsed_time) * 60\n",
    "    accuracy = calculate_accuracy(prompt_text, typed_text)\n",
    "\n",
    "    print(\"\\nTyping Test Results:\")\n",
    "    print(f\"Time taken: {elapsed_time:.2f} seconds\")\n",
    "    print(f\"Words typed: {words_typed}\")\n",
    "    print(f\"Characters typed: {characters_typed}\")\n",
    "    print(f\"Words per minute: {words_per_minute:.2f}\")\n",
    "    print(f\"Accuracy: {accuracy:.2f}%\")\n",
    "\n",
    "def calculate_accuracy(prompt, typed):\n",
    "    correct_characters = sum(1 for p, t in zip(prompt, typed) if p == t)\n",
    "    accuracy = (correct_characters / len(prompt)) * 100\n",
    "    return accuracy\n",
    "\n",
    "typing_accuracy_test()"
   ]
  },
  {
   "cell_type": "code",
   "execution_count": null,
   "id": "35083a26",
   "metadata": {},
   "outputs": [],
   "source": []
  },
  {
   "cell_type": "code",
   "execution_count": null,
   "id": "44814a83",
   "metadata": {},
   "outputs": [],
   "source": []
  }
 ],
 "metadata": {
  "kernelspec": {
   "display_name": "Python 3 (ipykernel)",
   "language": "python",
   "name": "python3"
  },
  "language_info": {
   "codemirror_mode": {
    "name": "ipython",
    "version": 3
   },
   "file_extension": ".py",
   "mimetype": "text/x-python",
   "name": "python",
   "nbconvert_exporter": "python",
   "pygments_lexer": "ipython3",
   "version": "3.9.13"
  }
 },
 "nbformat": 4,
 "nbformat_minor": 5
}
